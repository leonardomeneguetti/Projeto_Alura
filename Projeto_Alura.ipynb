{
  "nbformat": 4,
  "nbformat_minor": 0,
  "metadata": {
    "colab": {
      "provenance": [],
      "authorship_tag": "ABX9TyNNE8+27zIIysWkroDETks2",
      "include_colab_link": true
    },
    "kernelspec": {
      "name": "python3",
      "display_name": "Python 3"
    },
    "language_info": {
      "name": "python"
    }
  },
  "cells": [
    {
      "cell_type": "markdown",
      "metadata": {
        "id": "view-in-github",
        "colab_type": "text"
      },
      "source": [
        "<a href=\"https://colab.research.google.com/github/leonardomeneguetti/Projeto_Alura/blob/main/Projeto_Alura.ipynb\" target=\"_parent\"><img src=\"https://colab.research.google.com/assets/colab-badge.svg\" alt=\"Open In Colab\"/></a>"
      ]
    },
    {
      "cell_type": "code",
      "execution_count": 1,
      "metadata": {
        "id": "8r-UhJGAFhhH"
      },
      "outputs": [],
      "source": [
        "!pip install -q -U google-generativeai"
      ]
    },
    {
      "cell_type": "code",
      "source": [
        "import google.generativeai as genai #Importando o SDK e colocando um apelido\n",
        "from google.colab import userdata\n",
        "import textwrap\n",
        "from IPython.display import display\n",
        "from IPython.display import Markdown\n",
        "\n",
        "api_key = userdata.get(\"SECRET_KEY\")\n",
        "genai.configure(api_key=api_key)\n",
        "\n",
        "generation_config = {\n",
        "    \"candidate_count\": 1,\n",
        "    \"temperature\": 0.5,\n",
        "}\n",
        "\n",
        "safety_setings = {\n",
        "    \"HARASSMENT\": \"BLOCK_SOME\",\n",
        "    \"HATE\": \"BLOCK_SOME\",\n",
        "    \"SEXUAL\": \"BLOCK_SOME\",\n",
        "    \"DANGEROUS\": \"BLOCK_SOME\",\n",
        "}\n",
        "\n",
        "model = genai.GenerativeModel(model_name=\"gemini-1.0-pro\",\n",
        "                              generation_config=generation_config,\n",
        "                              safety_settings=safety_setings)\n",
        "\n",
        "chat = model.start_chat(history=[])\n",
        "\n",
        "prompt = input(\"Aguarando o prompt: \")\n",
        "\n",
        "while prompt !="
      ],
      "metadata": {
        "id": "ZyboVa2GFpuo"
      },
      "execution_count": null,
      "outputs": []
    }
  ]
}