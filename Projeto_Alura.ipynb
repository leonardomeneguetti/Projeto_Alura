{
  "nbformat": 4,
  "nbformat_minor": 0,
  "metadata": {
    "colab": {
      "provenance": [],
      "authorship_tag": "ABX9TyNMuZ6VJGxifL8a1cvqSvKH",
      "include_colab_link": true
    },
    "kernelspec": {
      "name": "python3",
      "display_name": "Python 3"
    },
    "language_info": {
      "name": "python"
    }
  },
  "cells": [
    {
      "cell_type": "markdown",
      "metadata": {
        "id": "view-in-github",
        "colab_type": "text"
      },
      "source": [
        "<a href=\"https://colab.research.google.com/github/leonardomeneguetti/Projeto_Alura/blob/main/Projeto_Alura.ipynb\" target=\"_parent\"><img src=\"https://colab.research.google.com/assets/colab-badge.svg\" alt=\"Open In Colab\"/></a>"
      ]
    },
    {
      "cell_type": "code",
      "execution_count": 1,
      "metadata": {
        "id": "8r-UhJGAFhhH"
      },
      "outputs": [],
      "source": [
        "!pip install -q -U google-generativeai"
      ]
    },
    {
      "cell_type": "code",
      "source": [
        "#Importando bibliotecas\n",
        "import google.generativeai as genai\n",
        "from google.colab import userdata\n",
        "from pathlib import Path\n",
        "import hashlib\n",
        "\n",
        "#configurando a API key\n",
        "api_key = userdata.get(\"SECRET_KEY\")\n",
        "genai.configure(api_key=api_key)\n",
        "\n",
        "#Configurando o modelo generativo\n",
        "generation_config = {\n",
        "  \"temperature\": 0.9,\n",
        "  \"top_p\": 0.95,\n",
        "  \"top_k\": 32,\n",
        "  \"max_output_tokens\": 1024,\n",
        "}\n",
        "safety_settings = [\n",
        "  {\n",
        "    \"category\": \"HARM_CATEGORY_HARASSMENT\",\n",
        "    \"threshold\": \"BLOCK_MEDIUM_AND_ABOVE\"\n",
        "  },\n",
        "  {\n",
        "    \"category\": \"HARM_CATEGORY_HATE_SPEECH\",\n",
        "    \"threshold\": \"BLOCK_MEDIUM_AND_ABOVE\"\n",
        "  },\n",
        "  {\n",
        "    \"category\": \"HARM_CATEGORY_SEXUALLY_EXPLICIT\",\n",
        "    \"threshold\": \"BLOCK_MEDIUM_AND_ABOVE\"\n",
        "  },\n",
        "  {\n",
        "    \"category\": \"HARM_CATEGORY_DANGEROUS_CONTENT\",\n",
        "    \"threshold\": \"BLOCK_MEDIUM_AND_ABOVE\"\n",
        "  },\n",
        "]\n",
        "model = genai.GenerativeModel(model_name=\"gemini-1.5-pro-latest\",\n",
        "                              generation_config=generation_config,\n",
        "                              safety_settings=safety_settings)\n",
        "chat = model.start_chat(history=[])\n",
        "\n",
        "#Pedindo o prompt para o usuário\n",
        "image = input(\"Insira o caminho da imagem aqui: \")\n",
        "\n",
        "while image != \"fim\":\n",
        "  prompt = [genai.upload_file(image), \"Analise a imagem e dê o nome do produto que está sendo mostrado. Depois, indique 3 sites de compra de produtos confiáveis onde o produto esteja disponível, sem colocar o valor do produto. Coloque o link do site. \"]\n",
        "  response = chat.send_message(prompt)\n",
        "  print(response.text)\n",
        "  print(\"-----------------------------------------------------------------------------------------------------------------------------------------------------------------------------------------------------------------------\")\n",
        "  image = input(\"Insira o caminho da imagem aqui: \")"
      ],
      "metadata": {
        "id": "ZyboVa2GFpuo"
      },
      "execution_count": null,
      "outputs": []
    }
  ]
}