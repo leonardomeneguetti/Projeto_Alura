{
  "nbformat": 4,
  "nbformat_minor": 0,
  "metadata": {
    "colab": {
      "provenance": [],
      "authorship_tag": "ABX9TyO2V3KiXWLAyjeh48/9xgzJ",
      "include_colab_link": true
    },
    "kernelspec": {
      "name": "python3",
      "display_name": "Python 3"
    },
    "language_info": {
      "name": "python"
    }
  },
  "cells": [
    {
      "cell_type": "markdown",
      "metadata": {
        "id": "view-in-github",
        "colab_type": "text"
      },
      "source": [
        "<a href=\"https://colab.research.google.com/github/leonardomeneguetti/Projeto_Alura/blob/main/Projeto_Alura.ipynb\" target=\"_parent\"><img src=\"https://colab.research.google.com/assets/colab-badge.svg\" alt=\"Open In Colab\"/></a>"
      ]
    },
    {
      "cell_type": "code",
      "execution_count": 1,
      "metadata": {
        "id": "8r-UhJGAFhhH"
      },
      "outputs": [],
      "source": [
        "!pip install -q -U google-generativeai"
      ]
    },
    {
      "cell_type": "code",
      "source": [
        "#Importando bibliotecas\n",
        "import google.generativeai as genai\n",
        "from google.colab import userdata\n",
        "from pathlib import Path\n",
        "import hashlib\n",
        "\n",
        "#configurando a API key\n",
        "api_key = userdata.get(\"SECRET_KEY\")\n",
        "genai.configure(api_key=api_key)\n",
        "\n",
        "#Configurando o modelo generativo\n",
        "generation_config = {\n",
        "  \"temperature\": 0.9,\n",
        "  \"top_p\": 0.95,\n",
        "  \"top_k\": 32,\n",
        "  \"max_output_tokens\": 1024,\n",
        "}\n",
        "safety_settings = [\n",
        "  {\n",
        "    \"category\": \"HARM_CATEGORY_HARASSMENT\",\n",
        "    \"threshold\": \"BLOCK_MEDIUM_AND_ABOVE\"\n",
        "  },\n",
        "  {\n",
        "    \"category\": \"HARM_CATEGORY_HATE_SPEECH\",\n",
        "    \"threshold\": \"BLOCK_MEDIUM_AND_ABOVE\"\n",
        "  },\n",
        "  {\n",
        "    \"category\": \"HARM_CATEGORY_SEXUALLY_EXPLICIT\",\n",
        "    \"threshold\": \"BLOCK_MEDIUM_AND_ABOVE\"\n",
        "  },\n",
        "  {\n",
        "    \"category\": \"HARM_CATEGORY_DANGEROUS_CONTENT\",\n",
        "    \"threshold\": \"BLOCK_MEDIUM_AND_ABOVE\"\n",
        "  },\n",
        "]\n",
        "system_instructions = (\"Dê a resposta baseada nesse exemplo:\"\n",
        "\"Exemplo de imagem: blob:https://aistudio.google.com/10435eb2-4ee3-4eca-b4d8-250f98a54f5b\"\n",
        "\"\\n\"\n",
        "\"Exemplo de resposta: O produto mostrado na imagem é uma almofada de lantejoulas com a imagem do ator Nicolas Cage. As lantejoulas permitem que a imagem seja revelada ou escondida ao passar a mão sobre elas.\"\n",
        "\"\\n\"\n",
        "\"Aqui estão 3 sites confiáveis onde você pode encontrar almofadas de lantejoulas com a imagem do Nicolas Cage:\"\n",
        "\"\\n\"\n",
        "\"**AliExpress**: O AliExpress é um site chinês que oferece uma ampla variedade de produtos a preços competitivos. Você pode encontrar almofadas de lantejoulas do Nicolas Cage por vários valores, dependendo do tamanho e do vendedor. Link: https://pt.aliexpress.com/\"\n",
        "\"\\n\"\n",
        "\"**Amazon**: A Amazon é uma varejista online global que oferece uma ampla variedade de produtos, incluindo almofadas de lantejoulas. Você pode encontrar almofadas do Nicolas Cage na Amazon. Link: https://www.amazon.com.br/\"\n",
        "\"\\n\"\n",
        "\"**Etsy**: O Etsy é um marketplace online que se concentra em itens artesanais e vintage. Você pode encontrar almofadas de lantejoulas do Nicolas Cage feitas à mão por vendedores independentes no Etsy, com preços variados, dependendo do design e da qualidade. Link: https://www.etsy.com/\")\n",
        "model = genai.GenerativeModel(model_name=\"gemini-1.5-pro-latest\",\n",
        "                              generation_config=generation_config,\n",
        "                              safety_settings=safety_settings,\n",
        "                              system_instruction=system_instructions)\n",
        "chat = model.start_chat(history=[])\n",
        "\n",
        "#Pedindo o prompt para o usuário\n",
        "image = input(\"Insira o caminho da imagem aqui: \")\n",
        "\n",
        "while prompt != \"fim\":\n",
        "  prompt = [genai.upload_file(image), \"Analise a imagem e dê o nome do produto que está sendo mostrado. Depois, indique 3 sites de compra de produtos confiáveis onde o produto esteja disponível, sem colocar o valor do produto. Coloque o link do site. \"]\n",
        "  response = chat.send_message(prompt)\n",
        "  print(response.text)\n",
        "  print(\"-----------------------------------------------------------------------------------------------------------------------------------------------------------------------------------------------------------------------\")\n",
        "  image = input(\"Insira o caminho da imagem aqui: \")\n",
        "\n",
        "#display(to_markdown(f\"**{response.}**: {message.parts[0].text}\"))\n"
      ],
      "metadata": {
        "colab": {
          "base_uri": "https://localhost:8080/",
          "height": 646
        },
        "id": "ZyboVa2GFpuo",
        "outputId": "3c05a530-3e66-44af-ba26-3649a95d9a31"
      },
      "execution_count": null,
      "outputs": [
        {
          "output_type": "stream",
          "name": "stdout",
          "text": [
            "Insira o caminho da imagem aqui: /content/Almofada_de_peixe.jpeg\n",
            "## Análise da imagem:\n",
            "\n",
            "O produto mostrado na imagem é um **travesseiro de pelúcia em formato de peixe**. Ele possui um design realista com detalhes de escamas e barbatanas, e seu tamanho parece ser grande o suficiente para abraçar.\n",
            "\n",
            "## Sites para encontrar o produto:\n",
            "\n",
            "1. **AliExpress:**  Este site chinês oferece uma enorme variedade de produtos a preços competitivos, incluindo itens de decoração e pelúcias. Você pode encontrar travesseiros de peixe em diversos tamanhos e designs. \n",
            "Link: https://pt.aliexpress.com/\n",
            "\n",
            "2. **Amazon:** A gigante do varejo online oferece uma ampla gama de produtos, incluindo brinquedos e pelúcias. Você pode encontrar travesseiros de peixe de diferentes marcas e estilos na Amazon.\n",
            "Link: https://www.amazon.com.br/\n",
            "\n",
            "3. **Mercado Livre:**  Este marketplace online popular na América Latina oferece uma variedade de produtos, incluindo itens de decoração e brinquedos. Você pode encontrar travesseiros de peixe de vendedores locais e internacionais.\n",
            "Link: https://www.mercadolivre.com.br/ \n",
            "\n",
            "-----------------------------------------------------------------------------------------------------------------------------------------------------------------------------------------------------------------------\n",
            "Insira o caminho da imagem aqui: /content/Sapato_de_peixe.jpeg\n",
            "## Análise da imagem:\n",
            "\n",
            "O produto mostrado na imagem são **chinelos com design de peixe**. Eles possuem um formato divertido e realista, com a cabeça do peixe cobrindo o peito do pé e a cauda na parte de trás do calcanhar.\n",
            "\n",
            "## Sites para encontrar o produto:\n",
            "\n",
            "1. **AliExpress:** Este site chinês oferece uma grande variedade de produtos a preços competitivos, incluindo calçados e itens de novidade. Você provavelmente encontrará diversos modelos de chinelos com design de peixe no AliExpress.\n",
            "Link: https://pt.aliexpress.com/\n",
            "\n",
            "2. **Amazon:** A gigante do varejo online oferece uma ampla gama de produtos, incluindo calçados e itens divertidos. Você pode encontrar chinelos de peixe de diferentes marcas e estilos na Amazon.\n",
            "Link: https://www.amazon.com.br/\n",
            "\n",
            "3. **Etsy:**  O Etsy é um marketplace online focado em itens artesanais e vintage. Você pode encontrar chinelos de peixe feitos à mão por vendedores independentes no Etsy, com designs exclusivos e criativos. \n",
            "Link: https://www.etsy.com/ \n",
            "\n",
            "-----------------------------------------------------------------------------------------------------------------------------------------------------------------------------------------------------------------------\n"
          ]
        }
      ]
    },
    {
      "cell_type": "code",
      "source": [
        "print(response)"
      ],
      "metadata": {
        "id": "Fe3l4Da3Kh7o"
      },
      "execution_count": null,
      "outputs": []
    }
  ]
}