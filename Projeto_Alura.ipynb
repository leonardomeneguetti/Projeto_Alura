{
  "nbformat": 4,
  "nbformat_minor": 0,
  "metadata": {
    "colab": {
      "provenance": [],
      "mount_file_id": "1otT8icYrGS82ZDa-XscOaIXN5SDu1UHW",
      "authorship_tag": "ABX9TyORnXG9vlY75T7aZCDwtJCL",
      "include_colab_link": true
    },
    "kernelspec": {
      "name": "python3",
      "display_name": "Python 3"
    },
    "language_info": {
      "name": "python"
    }
  },
  "cells": [
    {
      "cell_type": "markdown",
      "metadata": {
        "id": "view-in-github",
        "colab_type": "text"
      },
      "source": [
        "<a href=\"https://colab.research.google.com/github/leonardomeneguetti/Projeto_Alura/blob/main/Projeto_Alura.ipynb\" target=\"_parent\"><img src=\"https://colab.research.google.com/assets/colab-badge.svg\" alt=\"Open In Colab\"/></a>"
      ]
    },
    {
      "cell_type": "code",
      "execution_count": null,
      "metadata": {
        "id": "8r-UhJGAFhhH"
      },
      "outputs": [],
      "source": [
        "!pip install -q -U google-generativeai"
      ]
    },
    {
      "cell_type": "code",
      "source": [
        "#Importando bibliotecas\n",
        "import google.generativeai as genai\n",
        "from google.colab import userdata\n",
        "from pathlib import Path\n",
        "import hashlib\n",
        "\n",
        "#configurando a API key\n",
        "api_key = userdata.get(\"SECRET_KEY\")\n",
        "genai.configure(api_key=api_key)\n",
        "\n",
        "#Configurando o modelo generativo\n",
        "generation_config = {\n",
        "  \"temperature\": 0.9,\n",
        "  \"top_p\": 0.95,\n",
        "  \"top_k\": 32,\n",
        "  \"max_output_tokens\": 1024,\n",
        "}\n",
        "system_instructions = (\"Dê a resposta ao prompt seguindo esse exemplo:\"\n",
        "\"Resposta: Almofada de Peixe Realista.\"\n",
        "\n",
        "\"A imagem mostra uma almofada de pelúcia em formato de peixe, com um design realista que imita a aparência de uma carpa. O tamanho parece ser grande, ideal para abraçar ou usar como decoração. Onde encontrar almofadas de peixe realistas:\"\n",
        "\n",
        "\"AliExpress: Uma plataforma global com uma grande variedade de produtos, incluindo almofadas de pelúcia. Você pode encontrar diversos modelos de peixes realistas em diferentes tamanhos e preços. (https://pt.aliexpress.com/)\"\n",
        "\n",
        "\"Amazon: A gigante do varejo online oferece uma ampla seleção de almofadas de pelúcia, incluindo modelos de animais marinhos e peixes. Pesquise por almofada peixe realista para encontrar opções. (https://www.amazon.com.br/)\"\n",
        "\n",
        "\"Etsy: Se você procura algo único e artesanal, o Etsy é uma ótima opção. Vários artesãos criam almofadas de peixe realistas com detalhes incríveis. (https://www.etsy.com/)\")\n",
        "\n",
        "safety_settings = [\n",
        "  {\n",
        "    \"category\": \"HARM_CATEGORY_HARASSMENT\",\n",
        "    \"threshold\": \"BLOCK_MEDIUM_AND_ABOVE\"\n",
        "  },\n",
        "  {\n",
        "    \"category\": \"HARM_CATEGORY_HATE_SPEECH\",\n",
        "    \"threshold\": \"BLOCK_MEDIUM_AND_ABOVE\"\n",
        "  },\n",
        "  {\n",
        "    \"category\": \"HARM_CATEGORY_SEXUALLY_EXPLICIT\",\n",
        "    \"threshold\": \"BLOCK_MEDIUM_AND_ABOVE\"\n",
        "  },\n",
        "  {\n",
        "    \"category\": \"HARM_CATEGORY_DANGEROUS_CONTENT\",\n",
        "    \"threshold\": \"BLOCK_MEDIUM_AND_ABOVE\"\n",
        "  },\n",
        "]\n",
        "model = genai.GenerativeModel(model_name=\"gemini-1.5-pro-latest\",\n",
        "                              generation_config=generation_config,\n",
        "                              safety_settings=safety_settings,\n",
        "                              system_instruction=system_instructions)\n",
        "chat = model.start_chat(history=[])\n",
        "\n",
        "#Pedindo o prompt para o usuário\n",
        "image = input(\"Insira o caminho da imagem aqui: \")\n",
        "\n",
        "while image != \"fim\":\n",
        "  prompt = [genai.upload_file(image), \"Analise a imagem e dê o nome do produto que está sendo mostrado. Depois, indique 3 sites de compra de produtos confiáveis onde o produto esteja disponível, sem colocar o valor do produto. Coloque o link do site. \"]\n",
        "  response = chat.send_message(prompt)\n",
        "  print(response.text)\n",
        "  print(\"-----------------------------------------------------------------------------------------------------------------------------------------------------------------------------------------------------------------------\")\n",
        "  image = input(\"Insira o caminho da imagem aqui: \")"
      ],
      "metadata": {
        "id": "ZyboVa2GFpuo",
        "colab": {
          "base_uri": "https://localhost:8080/",
          "height": 297
        },
        "outputId": "de347073-1efb-4f62-d46f-555998474d4a"
      },
      "execution_count": 2,
      "outputs": [
        {
          "name": "stdout",
          "output_type": "stream",
          "text": [
            "Insira o caminho da imagem aqui: /content/1_TIS8WEvdhp5FcCWIxvVC7w.png\n",
            "Resposta: Almofada de Lantejoulas Reversível com Estampa do Nicolas Cage.\n",
            "\n",
            "A imagem mostra uma almofada com lantejoulas reversíveis que revelam uma imagem do ator Nicolas Cage. As lantejoulas mudam de cor quando você passa a mão, criando um efeito divertido e interativo. \n",
            "\n",
            "Onde encontrar almofadas de lantejoulas reversíveis com estampa do Nicolas Cage:\n",
            "\n",
            "Amazon: A gigante do varejo online oferece uma ampla seleção de almofadas, incluindo modelos personalizados e divertidos. Pesquise por \"almofada lantejoulas Nicolas Cage\" para encontrar opções. (https://www.amazon.com.br/)\n",
            "\n",
            "Etsy: Se você procura algo único e artesanal, o Etsy é uma ótima opção. Vários artesãos criam almofadas personalizadas, incluindo modelos com lantejoulas reversíveis e estampas de celebridades. (https://www.etsy.com/)\n",
            "\n",
            "Mercado Livre: Uma plataforma popular para compra e venda de produtos novos e usados. Você pode encontrar diversas opções de almofadas de lantejoulas com a estampa do Nicolas Cage, com diferentes preços e vendedores. (https://www.mercadolivre.com.br/) \n",
            "\n",
            "-----------------------------------------------------------------------------------------------------------------------------------------------------------------------------------------------------------------------\n",
            "Insira o caminho da imagem aqui: fim\n"
          ]
        }
      ]
    }
  ]
}